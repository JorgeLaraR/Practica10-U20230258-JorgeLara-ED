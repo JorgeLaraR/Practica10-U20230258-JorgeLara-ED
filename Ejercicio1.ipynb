{
 "cells": [
  {
   "cell_type": "code",
   "execution_count": 1,
   "metadata": {},
   "outputs": [
    {
     "ename": "ModuleNotFoundError",
     "evalue": "No module named 'pandas'",
     "output_type": "error",
     "traceback": [
      "\u001b[1;31m---------------------------------------------------------------------------\u001b[0m",
      "\u001b[1;31mModuleNotFoundError\u001b[0m                       Traceback (most recent call last)",
      "\u001b[1;32mc:\\Users\\Walter\\Desktop\\Practica #10 - U20230258 - JorgeLara - ED\\Ejercicio1.ipynb Celda 1\u001b[0m line \u001b[0;36m1\n\u001b[1;32m----> <a href='vscode-notebook-cell:/c%3A/Users/Walter/Desktop/Practica%20%2310%20-%20U20230258%20-%20JorgeLara%20-%20ED/Ejercicio1.ipynb#W0sZmlsZQ%3D%3D?line=0'>1</a>\u001b[0m \u001b[39mimport\u001b[39;00m \u001b[39mpandas\u001b[39;00m \u001b[39mas\u001b[39;00m \u001b[39mpd\u001b[39;00m\n\u001b[0;32m      <a href='vscode-notebook-cell:/c%3A/Users/Walter/Desktop/Practica%20%2310%20-%20U20230258%20-%20JorgeLara%20-%20ED/Ejercicio1.ipynb#W0sZmlsZQ%3D%3D?line=1'>2</a>\u001b[0m \u001b[39mimport\u001b[39;00m \u001b[39mmatplotlib\u001b[39;00m\u001b[39m.\u001b[39;00m\u001b[39mpyplot\u001b[39;00m \u001b[39mas\u001b[39;00m \u001b[39mplt\u001b[39;00m\n\u001b[0;32m      <a href='vscode-notebook-cell:/c%3A/Users/Walter/Desktop/Practica%20%2310%20-%20U20230258%20-%20JorgeLara%20-%20ED/Ejercicio1.ipynb#W0sZmlsZQ%3D%3D?line=3'>4</a>\u001b[0m Enero \u001b[39m=\u001b[39m [\u001b[39m'\u001b[39m\u001b[39mEnero\u001b[39m\u001b[39m'\u001b[39m, \u001b[39m242\u001b[39m]\n",
      "\u001b[1;31mModuleNotFoundError\u001b[0m: No module named 'pandas'"
     ]
    }
   ],
   "source": [
    "import pandas as pd\n",
    "import matplotlib.pyplot as plt\n",
    "\n",
    "Enero = ['Enero', 242]\n",
    "Febrero = ['Febrero', 329]\n",
    "Marzo = ['Marzo', 117]\n",
    "Abril = ['Abril', 264]\n",
    "Mayo = ['Mayo', 127]\n",
    "Junio = ['Junio', 290]\n",
    "Julio = ['Julio', 132]\n",
    "Agosto = ['Agosto', 380]\n",
    "Septiembre = ['Septiembre', 89]\n",
    "Octubre = ['Octubre', 164]\n",
    "Noviembre = ['Noviembre', 220]\n",
    "Diciembre = ['Diciembre', 130]\n",
    "\n",
    "lista_meses = [Enero, Febrero, Marzo, Abril, Mayo, Junio, Julio, Agosto, Septiembre, Octubre, Noviembre, Diciembre]\n",
    "\n",
    "\n",
    "df_meses = pd.DataFrame(lista_meses, columns=['Mes', 'Venta'])\n",
    "df_meses\n",
    "\n",
    "plt.bar(df_meses['Mes'], df_meses['Venta'])\n",
    "plt.title('Ventas totales para cada mes')\n",
    "plt.xlabel('Meses')\n",
    "plt.ylabel('Ventas')\n",
    "plt.show()"
   ]
  }
 ],
 "metadata": {
  "kernelspec": {
   "display_name": "Python 3",
   "language": "python",
   "name": "python3"
  },
  "language_info": {
   "codemirror_mode": {
    "name": "ipython",
    "version": 3
   },
   "file_extension": ".py",
   "mimetype": "text/x-python",
   "name": "python",
   "nbconvert_exporter": "python",
   "pygments_lexer": "ipython3",
   "version": "3.11.5"
  }
 },
 "nbformat": 4,
 "nbformat_minor": 2
}
