{
 "cells": [
  {
   "cell_type": "code",
   "execution_count": 1,
   "metadata": {},
   "outputs": [
    {
     "ename": "ModuleNotFoundError",
     "evalue": "No module named 'pandas'",
     "output_type": "error",
     "traceback": [
      "\u001b[1;31m---------------------------------------------------------------------------\u001b[0m",
      "\u001b[1;31mModuleNotFoundError\u001b[0m                       Traceback (most recent call last)",
      "\u001b[1;32mc:\\Users\\Walter\\Desktop\\Practica #10 - U20230258 - JorgeLara - ED\\Ejercicio2.ipynb Celda 1\u001b[0m line \u001b[0;36m1\n\u001b[1;32m----> <a href='vscode-notebook-cell:/c%3A/Users/Walter/Desktop/Practica%20%2310%20-%20U20230258%20-%20JorgeLara%20-%20ED/Ejercicio2.ipynb#W0sZmlsZQ%3D%3D?line=0'>1</a>\u001b[0m \u001b[39mimport\u001b[39;00m \u001b[39mpandas\u001b[39;00m \u001b[39mas\u001b[39;00m \u001b[39mpd\u001b[39;00m\n\u001b[0;32m      <a href='vscode-notebook-cell:/c%3A/Users/Walter/Desktop/Practica%20%2310%20-%20U20230258%20-%20JorgeLara%20-%20ED/Ejercicio2.ipynb#W0sZmlsZQ%3D%3D?line=1'>2</a>\u001b[0m \u001b[39mimport\u001b[39;00m \u001b[39mmatplotlib\u001b[39;00m\u001b[39m.\u001b[39;00m\u001b[39mpyplot\u001b[39;00m \u001b[39mas\u001b[39;00m \u001b[39mplt\u001b[39;00m\n\u001b[0;32m      <a href='vscode-notebook-cell:/c%3A/Users/Walter/Desktop/Practica%20%2310%20-%20U20230258%20-%20JorgeLara%20-%20ED/Ejercicio2.ipynb#W0sZmlsZQ%3D%3D?line=3'>4</a>\u001b[0m notas \u001b[39m=\u001b[39m {\n\u001b[0;32m      <a href='vscode-notebook-cell:/c%3A/Users/Walter/Desktop/Practica%20%2310%20-%20U20230258%20-%20JorgeLara%20-%20ED/Ejercicio2.ipynb#W0sZmlsZQ%3D%3D?line=4'>5</a>\u001b[0m     \u001b[39m\"\u001b[39m\u001b[39mgrupo_1\u001b[39m\u001b[39m\"\u001b[39m: [\u001b[39m60\u001b[39m, \u001b[39m70\u001b[39m, \u001b[39m80\u001b[39m, \u001b[39m90\u001b[39m],\n\u001b[0;32m      <a href='vscode-notebook-cell:/c%3A/Users/Walter/Desktop/Practica%20%2310%20-%20U20230258%20-%20JorgeLara%20-%20ED/Ejercicio2.ipynb#W0sZmlsZQ%3D%3D?line=5'>6</a>\u001b[0m     \u001b[39m\"\u001b[39m\u001b[39mgrupo_2\u001b[39m\u001b[39m\"\u001b[39m: [\u001b[39m50\u001b[39m, \u001b[39m60\u001b[39m, \u001b[39m70\u001b[39m, \u001b[39m80\u001b[39m],\n\u001b[0;32m      <a href='vscode-notebook-cell:/c%3A/Users/Walter/Desktop/Practica%20%2310%20-%20U20230258%20-%20JorgeLara%20-%20ED/Ejercicio2.ipynb#W0sZmlsZQ%3D%3D?line=6'>7</a>\u001b[0m     \u001b[39m\"\u001b[39m\u001b[39mgrupo_3\u001b[39m\u001b[39m\"\u001b[39m: [\u001b[39m40\u001b[39m, \u001b[39m50\u001b[39m, \u001b[39m60\u001b[39m, \u001b[39m70\u001b[39m],\n\u001b[0;32m      <a href='vscode-notebook-cell:/c%3A/Users/Walter/Desktop/Practica%20%2310%20-%20U20230258%20-%20JorgeLara%20-%20ED/Ejercicio2.ipynb#W0sZmlsZQ%3D%3D?line=7'>8</a>\u001b[0m }\n",
      "\u001b[1;31mModuleNotFoundError\u001b[0m: No module named 'pandas'"
     ]
    }
   ],
   "source": [
    "import pandas as pd\n",
    "import matplotlib.pyplot as plt\n",
    "\n",
    "notas = {\n",
    "    \"grupo_1\": [60, 70, 80, 90],\n",
    "    \"grupo_2\": [50, 60, 70, 80],\n",
    "    \"grupo_3\": [40, 50, 60, 70],\n",
    "}\n",
    "\n",
    "try:\n",
    "    df = pd.DataFrame(notas)\n",
    "except KeyError as e:\n",
    "    print(f\"Error: El diccionario no tiene datos.\")\n",
    "    exit(1)\n",
    "\n",
    "df.plot.area(figsize=(10, 6))\n",
    "plt.title(\"Relación entre los puntajes de los dos exámenes\")\n",
    "plt.xlabel(\"Puntaje de examen 1\")\n",
    "plt.ylabel(\"Puntaje de examen 2\")\n",
    "plt.show()"
   ]
  }
 ],
 "metadata": {
  "kernelspec": {
   "display_name": "Python 3",
   "language": "python",
   "name": "python3"
  },
  "language_info": {
   "codemirror_mode": {
    "name": "ipython",
    "version": 3
   },
   "file_extension": ".py",
   "mimetype": "text/x-python",
   "name": "python",
   "nbconvert_exporter": "python",
   "pygments_lexer": "ipython3",
   "version": "3.11.5"
  }
 },
 "nbformat": 4,
 "nbformat_minor": 2
}
